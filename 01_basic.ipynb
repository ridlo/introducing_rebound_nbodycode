{
 "cells": [
  {
   "cell_type": "code",
   "execution_count": 1,
   "metadata": {},
   "outputs": [],
   "source": [
    "import rebound"
   ]
  },
  {
   "cell_type": "code",
   "execution_count": 2,
   "metadata": {},
   "outputs": [],
   "source": [
    "sim = rebound.Simulation() # create a new simulation"
   ]
  },
  {
   "cell_type": "code",
   "execution_count": 3,
   "metadata": {},
   "outputs": [],
   "source": [
    "# add particles to the simulation\n",
    "sim.add(m=1.0)\n",
    "sim.add(m=1.0e-3, a=1.0) # input in Keplerian\n",
    "sim.add(m=1.0e-3, x=2.0, vy=-1.5) # input in Cartesian"
   ]
  },
  {
   "cell_type": "code",
   "execution_count": 4,
   "metadata": {},
   "outputs": [
    {
     "name": "stdout",
     "output_type": "stream",
     "text": [
      "---------------------------------\n",
      "REBOUND version:     \t3.6.6\n",
      "REBOUND built on:    \tSep 12 2018 20:14:23\n",
      "Number of particles: \t3\n",
      "Selected integrator: \tias15\n",
      "Simulation time:     \t1.0000000000000000e+03\n",
      "Current timestep:    \t0.175824\n",
      "---------------------------------\n",
      "<rebound.Particle object, m=1.0 x=0.32145473666660324 y=0.5748948601173174 z=0.0 vx=0.001274090619760563 vy=0.0008684689197993523 vz=0.0>\n",
      "<rebound.Particle object, m=0.001 x=0.0246896919795477 y=1.5296291466585668 z=0.0 vx=-0.9541169074063296 vy=-0.2964107819092668 vz=0.0>\n",
      "<rebound.Particle object, m=0.001 x=-318.47942635858385 y=-1075.9246142015145 z=0.0 vx=-0.3199737123542353 vy=-1.0715582628276246 vz=0.0>\n",
      "---------------------------------\n"
     ]
    }
   ],
   "source": [
    "sim.integrate(1000.) # integrate until t=1000.\n",
    "\n",
    "# by default rebound only save the last position..\n",
    "# users are free to decide how to take snapshots during simulation \n",
    "# (resolution and format: python list, ascii, binary, simulationArchive, etc)\n",
    "\n",
    "sim.status() # print the position of particles"
   ]
  },
  {
   "cell_type": "code",
   "execution_count": 5,
   "metadata": {},
   "outputs": [
    {
     "data": {
      "text/plain": [
       "1.0"
      ]
     },
     "execution_count": 5,
     "metadata": {},
     "output_type": "execute_result"
    }
   ],
   "source": [
    "sim.G # by default G = 1 (you can set the value of G)"
   ]
  },
  {
   "cell_type": "code",
   "execution_count": 6,
   "metadata": {},
   "outputs": [
    {
     "data": {
      "text/plain": [
       "0.17582424368323674"
      ]
     },
     "execution_count": 6,
     "metadata": {},
     "output_type": "execute_result"
    }
   ],
   "source": [
    "sim.dt # IAS15 is an integrator with adaptive time step \n",
    "# you don't need to set sim.dt before integration\n",
    "# change automatically during integration to achieve precision needed"
   ]
  },
  {
   "cell_type": "code",
   "execution_count": 7,
   "metadata": {},
   "outputs": [
    {
     "data": {
      "text/plain": [
       "1000.0"
      ]
     },
     "execution_count": 7,
     "metadata": {},
     "output_type": "execute_result"
    }
   ],
   "source": [
    "sim.t # current time"
   ]
  },
  {
   "cell_type": "code",
   "execution_count": 8,
   "metadata": {},
   "outputs": [
    {
     "data": {
      "text/plain": [
       "3"
      ]
     },
     "execution_count": 8,
     "metadata": {},
     "output_type": "execute_result"
    }
   ],
   "source": [
    "sim.N # number of particles"
   ]
  },
  {
   "cell_type": "code",
   "execution_count": 9,
   "metadata": {},
   "outputs": [
    {
     "data": {
      "text/plain": [
       "<rebound.Particle object, m=1.0 x=0.32145473666660324 y=0.5748948601173174 z=0.0 vx=0.001274090619760563 vy=0.0008684689197993523 vz=0.0>"
      ]
     },
     "execution_count": 9,
     "metadata": {},
     "output_type": "execute_result"
    }
   ],
   "source": [
    "sim.particles[0]"
   ]
  },
  {
   "cell_type": "code",
   "execution_count": 10,
   "metadata": {},
   "outputs": [
    {
     "data": {
      "text/plain": [
       "['G',\n",
       " 'N',\n",
       " 'N_active',\n",
       " 'N_lookup',\n",
       " 'N_real',\n",
       " 'N_var',\n",
       " '__class__',\n",
       " '__ctypes_from_outparam__',\n",
       " '__del__',\n",
       " '__delattr__',\n",
       " '__dict__',\n",
       " '__dir__',\n",
       " '__doc__',\n",
       " '__eq__',\n",
       " '__format__',\n",
       " '__ge__',\n",
       " '__getattribute__',\n",
       " '__gt__',\n",
       " '__hash__',\n",
       " '__init__',\n",
       " '__init_subclass__',\n",
       " '__le__',\n",
       " '__lt__',\n",
       " '__module__',\n",
       " '__ne__',\n",
       " '__new__',\n",
       " '__reduce__',\n",
       " '__reduce_ex__',\n",
       " '__repr__',\n",
       " '__setattr__',\n",
       " '__setstate__',\n",
       " '__sizeof__',\n",
       " '__str__',\n",
       " '__subclasshook__',\n",
       " '__weakref__',\n",
       " '_additional_forces',\n",
       " '_b_base_',\n",
       " '_b_needsfree_',\n",
       " '_boundary',\n",
       " '_calculate_megno',\n",
       " '_coefficient_of_restitution',\n",
       " '_collision',\n",
       " '_collision_resolve',\n",
       " '_display_clock',\n",
       " '_display_heartbeat',\n",
       " '_fields_',\n",
       " '_free_particle_ap',\n",
       " '_gravity',\n",
       " '_heartbeat',\n",
       " '_integrator',\n",
       " '_objects',\n",
       " '_particle_lookup_table',\n",
       " '_particles',\n",
       " '_post_timestep_modifications',\n",
       " '_pre_timestep_modifications',\n",
       " '_simulationarchive_filename',\n",
       " '_status',\n",
       " '_visualization',\n",
       " 'add',\n",
       " 'add_particles_ascii',\n",
       " 'add_variation',\n",
       " 'additional_forces',\n",
       " 'allocatedN_lookup',\n",
       " 'allocated_N',\n",
       " 'automateSimulationArchive',\n",
       " 'boundary',\n",
       " 'boxsize',\n",
       " 'boxsize_max',\n",
       " 'calculate_angular_momentum',\n",
       " 'calculate_com',\n",
       " 'calculate_energy',\n",
       " 'calculate_lyapunov',\n",
       " 'calculate_megno',\n",
       " 'calculate_orbits',\n",
       " 'coefficient_of_restitution',\n",
       " 'collision',\n",
       " 'collision_resolve',\n",
       " 'collision_resolve_keep_sorted',\n",
       " 'collisions',\n",
       " 'collisions_Nlog',\n",
       " 'collisions_allocatedN',\n",
       " 'collisions_plog',\n",
       " 'configure_box',\n",
       " 'configure_ghostboxes',\n",
       " 'convert_particle_units',\n",
       " 'display_data',\n",
       " 'dt',\n",
       " 'dt_last_done',\n",
       " 'energy_offset',\n",
       " 'exact_finish_time',\n",
       " 'exit_max_distance',\n",
       " 'exit_min_distance',\n",
       " 'extras',\n",
       " 'force_is_velocity_dependent',\n",
       " 'free_particle_ap',\n",
       " 'from_archive',\n",
       " 'from_file',\n",
       " 'getWidget',\n",
       " 'gravity',\n",
       " 'gravity_cs',\n",
       " 'gravity_cs_allocatedN',\n",
       " 'gravity_ignore_10',\n",
       " 'hash_ctr',\n",
       " 'heartbeat',\n",
       " 'init_megno',\n",
       " 'integrate',\n",
       " 'integrator',\n",
       " 'integrator_synchronize',\n",
       " 'max_radius',\n",
       " 'megno_Ys',\n",
       " 'megno_Yss',\n",
       " 'megno_cov_Yt',\n",
       " 'megno_mean_Y',\n",
       " 'megno_mean_t',\n",
       " 'megno_n',\n",
       " 'megno_var_t',\n",
       " 'messages',\n",
       " 'minimum_collision_celocity',\n",
       " 'move_to_com',\n",
       " 'nghostx',\n",
       " 'nghosty',\n",
       " 'nghostz',\n",
       " 'opening_angle2',\n",
       " 'output_timing_last',\n",
       " 'particles',\n",
       " 'particles_ascii',\n",
       " 'post_timestep_modifications',\n",
       " 'pre_timestep_modifications',\n",
       " 'process_messages',\n",
       " 'refreshWidgets',\n",
       " 'remove',\n",
       " 'ri_hermes',\n",
       " 'ri_ias15',\n",
       " 'ri_janus',\n",
       " 'ri_mercurius',\n",
       " 'ri_sei',\n",
       " 'ri_whfast',\n",
       " 'root_n',\n",
       " 'root_nx',\n",
       " 'root_ny',\n",
       " 'root_nz',\n",
       " 'root_size',\n",
       " 'save',\n",
       " 'save_messages',\n",
       " 'serialize_particle_data',\n",
       " 'simulationarchive_auto_interval',\n",
       " 'simulationarchive_auto_walltime',\n",
       " 'simulationarchive_filename',\n",
       " 'simulationarchive_next',\n",
       " 'simulationarchive_size_first',\n",
       " 'simulationarchive_size_snapshot',\n",
       " 'simulationarchive_snapshot',\n",
       " 'simulationarchive_version',\n",
       " 'softening',\n",
       " 'status',\n",
       " 'step',\n",
       " 't',\n",
       " 'testparticle_type',\n",
       " 'track_energy_offset',\n",
       " 'tree_needs_update',\n",
       " 'tree_root',\n",
       " 'tree_update',\n",
       " 'units',\n",
       " 'update_units',\n",
       " 'usleep',\n",
       " 'var_config',\n",
       " 'var_config_N',\n",
       " 'walltime']"
      ]
     },
     "execution_count": 10,
     "metadata": {},
     "output_type": "execute_result"
    }
   ],
   "source": [
    "dir(sim)"
   ]
  },
  {
   "cell_type": "code",
   "execution_count": null,
   "metadata": {},
   "outputs": [],
   "source": []
  }
 ],
 "metadata": {
  "kernelspec": {
   "display_name": "Python 3",
   "language": "python",
   "name": "python3"
  },
  "language_info": {
   "codemirror_mode": {
    "name": "ipython",
    "version": 3
   },
   "file_extension": ".py",
   "mimetype": "text/x-python",
   "name": "python",
   "nbconvert_exporter": "python",
   "pygments_lexer": "ipython3",
   "version": "3.6.5"
  }
 },
 "nbformat": 4,
 "nbformat_minor": 2
}
